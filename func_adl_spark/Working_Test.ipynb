{
 "cells": [
  {
   "cell_type": "code",
   "execution_count": 2,
   "id": "corrected-proxy",
   "metadata": {},
   "outputs": [
    {
     "name": "stdout",
     "output_type": "stream",
     "text": [
      "Module(body=[Expr(value=Select(source=Select(source=Call(func=Name(id='EventDataset', ctx=Load()), args=[Str(s='tests/scalars_tree_file.root'), Str(s='tree')], keywords=[]), selector=Lambda(args=arguments(args=[arg(arg='row', annotation=None)], vararg=None, kwonlyargs=[], kw_defaults=[], kwarg=None, defaults=[]), body=Tuple(elts=[Attribute(value=Name(id='row', ctx=Load()), attr='int_branch', ctx=Load()), Attribute(value=Name(id='row', ctx=Load()), attr='long_branch', ctx=Load())], ctx=Load()))), selector=Lambda(args=arguments(args=[arg(arg='row', annotation=None)], vararg=None, kwonlyargs=[], kw_defaults=[], kwarg=None, defaults=[]), body=Tuple(elts=[Subscript(value=Name(id='row', ctx=Load()), slice=Index(value=Num(n=0)), ctx=Load()), Subscript(value=Name(id='row', ctx=Load()), slice=Index(value=Num(n=1)), ctx=Load())], ctx=Load()))))])\n"
     ]
    },
    {
     "data": {
      "text/plain": [
       "\"(lambda selection: ak.zip(selection, depth_limit=1) if not isinstance(selection, ak.Array) else selection)((lambda row: ((row[row.fields[0]] if isinstance(row, ak.Array) else row[0]), (row[row.fields[1]] if isinstance(row, ak.Array) else row[1])))((lambda selection: ak.zip(selection, depth_limit=1) if not isinstance(selection, ak.Array) else selection)((lambda row: (row['int_branch'], row['long_branch']))((lambda input_files, tree_name_to_use: (logging.getLogger(__name__).info('Using treename=' + repr(tree_name_to_use)), uproot.lazy({input_file: tree_name_to_use for input_file in input_files}))[1])((lambda source: [source] if isinstance(source, str) else source)(input_filenames if input_filenames is not None else ['tests/scalars_tree_file.root']), tree_name if tree_name is not None else 'tree')))))\""
      ]
     },
     "execution_count": 2,
     "metadata": {},
     "output_type": "execute_result"
    }
   ],
   "source": [
    "from transformer import *\n",
    "from translation import *\n",
    "\n",
    "python_source = (\"Select(EventDataset('tests/scalars_tree_file.root', 'tree'),\"\n",
    "                     + ' lambda row: (row.int_branch, row.long_branch))'\n",
    "                     + '.Select(lambda row: (row[0], row[1]))')\n",
    "query_raw_python_ast = ast.parse(python_source)\n",
    "query_python_ast = qastle.insert_linq_nodes(query_raw_python_ast)\n",
    "print(ast.dump(query_raw_python_ast))\n",
    "python_ast_to_python_source(query_python_ast)"
   ]
  },
  {
   "cell_type": "code",
   "execution_count": null,
   "id": "vulnerable-gardening",
   "metadata": {},
   "outputs": [],
   "source": []
  }
 ],
 "metadata": {
  "kernelspec": {
   "display_name": "Python 3",
   "language": "python",
   "name": "python3"
  },
  "language_info": {
   "codemirror_mode": {
    "name": "ipython",
    "version": 3
   },
   "file_extension": ".py",
   "mimetype": "text/x-python",
   "name": "python",
   "nbconvert_exporter": "python",
   "pygments_lexer": "ipython3",
   "version": "3.7.9"
  }
 },
 "nbformat": 4,
 "nbformat_minor": 5
}
